{
  "nbformat": 4,
  "nbformat_minor": 0,
  "metadata": {
    "colab": {
      "provenance": []
    },
    "kernelspec": {
      "name": "python3",
      "display_name": "Python 3"
    },
    "language_info": {
      "name": "python"
    }
  },
  "cells": [
    {
      "cell_type": "code",
      "execution_count": 33,
      "metadata": {
        "id": "YL1BhP5rEgjQ"
      },
      "outputs": [],
      "source": [
        "import pandas as pd\n",
        "import string\n",
        "import re\n",
        "import nltk\n",
        "from nltk.corpus import stopwords\n",
        "from nltk.stem import PorterStemmer, WordNetLemmatizer\n",
        "from textblob import TextBlob\n",
        "import numpy as np"
      ]
    },
    {
      "cell_type": "code",
      "source": [
        "# Step 1: Read csv file\n",
        "data = pd.read_csv('spam.csv', encoding='ISO-8859-1')"
      ],
      "metadata": {
        "id": "4LdFuI8fEkCr"
      },
      "execution_count": 34,
      "outputs": []
    },
    {
      "cell_type": "code",
      "source": [
        "data"
      ],
      "metadata": {
        "colab": {
          "base_uri": "https://localhost:8080/",
          "height": 424
        },
        "id": "cWG00XCSe08T",
        "outputId": "ac3d6e66-e169-4cb1-ad7f-8d67a25b5fca"
      },
      "execution_count": 35,
      "outputs": [
        {
          "output_type": "execute_result",
          "data": {
            "text/plain": [
              "        v1                                                 v2 Unnamed: 2  \\\n",
              "0      ham  Go until jurong point, crazy.. Available only ...        NaN   \n",
              "1      ham                      Ok lar... Joking wif u oni...        NaN   \n",
              "2     spam  Free entry in 2 a wkly comp to win FA Cup fina...        NaN   \n",
              "3      ham  U dun say so early hor... U c already then say...        NaN   \n",
              "4      ham  Nah I don't think he goes to usf, he lives aro...        NaN   \n",
              "...    ...                                                ...        ...   \n",
              "5567  spam  This is the 2nd time we have tried 2 contact u...        NaN   \n",
              "5568   ham              Will Ì_ b going to esplanade fr home?        NaN   \n",
              "5569   ham  Pity, * was in mood for that. So...any other s...        NaN   \n",
              "5570   ham  The guy did some bitching but I acted like i'd...        NaN   \n",
              "5571   ham                         Rofl. Its true to its name        NaN   \n",
              "\n",
              "     Unnamed: 3 Unnamed: 4  \n",
              "0           NaN        NaN  \n",
              "1           NaN        NaN  \n",
              "2           NaN        NaN  \n",
              "3           NaN        NaN  \n",
              "4           NaN        NaN  \n",
              "...         ...        ...  \n",
              "5567        NaN        NaN  \n",
              "5568        NaN        NaN  \n",
              "5569        NaN        NaN  \n",
              "5570        NaN        NaN  \n",
              "5571        NaN        NaN  \n",
              "\n",
              "[5572 rows x 5 columns]"
            ],
            "text/html": [
              "\n",
              "  <div id=\"df-f472e9d9-e4aa-489c-984b-c02f8f0d7d23\">\n",
              "    <div class=\"colab-df-container\">\n",
              "      <div>\n",
              "<style scoped>\n",
              "    .dataframe tbody tr th:only-of-type {\n",
              "        vertical-align: middle;\n",
              "    }\n",
              "\n",
              "    .dataframe tbody tr th {\n",
              "        vertical-align: top;\n",
              "    }\n",
              "\n",
              "    .dataframe thead th {\n",
              "        text-align: right;\n",
              "    }\n",
              "</style>\n",
              "<table border=\"1\" class=\"dataframe\">\n",
              "  <thead>\n",
              "    <tr style=\"text-align: right;\">\n",
              "      <th></th>\n",
              "      <th>v1</th>\n",
              "      <th>v2</th>\n",
              "      <th>Unnamed: 2</th>\n",
              "      <th>Unnamed: 3</th>\n",
              "      <th>Unnamed: 4</th>\n",
              "    </tr>\n",
              "  </thead>\n",
              "  <tbody>\n",
              "    <tr>\n",
              "      <th>0</th>\n",
              "      <td>ham</td>\n",
              "      <td>Go until jurong point, crazy.. Available only ...</td>\n",
              "      <td>NaN</td>\n",
              "      <td>NaN</td>\n",
              "      <td>NaN</td>\n",
              "    </tr>\n",
              "    <tr>\n",
              "      <th>1</th>\n",
              "      <td>ham</td>\n",
              "      <td>Ok lar... Joking wif u oni...</td>\n",
              "      <td>NaN</td>\n",
              "      <td>NaN</td>\n",
              "      <td>NaN</td>\n",
              "    </tr>\n",
              "    <tr>\n",
              "      <th>2</th>\n",
              "      <td>spam</td>\n",
              "      <td>Free entry in 2 a wkly comp to win FA Cup fina...</td>\n",
              "      <td>NaN</td>\n",
              "      <td>NaN</td>\n",
              "      <td>NaN</td>\n",
              "    </tr>\n",
              "    <tr>\n",
              "      <th>3</th>\n",
              "      <td>ham</td>\n",
              "      <td>U dun say so early hor... U c already then say...</td>\n",
              "      <td>NaN</td>\n",
              "      <td>NaN</td>\n",
              "      <td>NaN</td>\n",
              "    </tr>\n",
              "    <tr>\n",
              "      <th>4</th>\n",
              "      <td>ham</td>\n",
              "      <td>Nah I don't think he goes to usf, he lives aro...</td>\n",
              "      <td>NaN</td>\n",
              "      <td>NaN</td>\n",
              "      <td>NaN</td>\n",
              "    </tr>\n",
              "    <tr>\n",
              "      <th>...</th>\n",
              "      <td>...</td>\n",
              "      <td>...</td>\n",
              "      <td>...</td>\n",
              "      <td>...</td>\n",
              "      <td>...</td>\n",
              "    </tr>\n",
              "    <tr>\n",
              "      <th>5567</th>\n",
              "      <td>spam</td>\n",
              "      <td>This is the 2nd time we have tried 2 contact u...</td>\n",
              "      <td>NaN</td>\n",
              "      <td>NaN</td>\n",
              "      <td>NaN</td>\n",
              "    </tr>\n",
              "    <tr>\n",
              "      <th>5568</th>\n",
              "      <td>ham</td>\n",
              "      <td>Will Ì_ b going to esplanade fr home?</td>\n",
              "      <td>NaN</td>\n",
              "      <td>NaN</td>\n",
              "      <td>NaN</td>\n",
              "    </tr>\n",
              "    <tr>\n",
              "      <th>5569</th>\n",
              "      <td>ham</td>\n",
              "      <td>Pity, * was in mood for that. So...any other s...</td>\n",
              "      <td>NaN</td>\n",
              "      <td>NaN</td>\n",
              "      <td>NaN</td>\n",
              "    </tr>\n",
              "    <tr>\n",
              "      <th>5570</th>\n",
              "      <td>ham</td>\n",
              "      <td>The guy did some bitching but I acted like i'd...</td>\n",
              "      <td>NaN</td>\n",
              "      <td>NaN</td>\n",
              "      <td>NaN</td>\n",
              "    </tr>\n",
              "    <tr>\n",
              "      <th>5571</th>\n",
              "      <td>ham</td>\n",
              "      <td>Rofl. Its true to its name</td>\n",
              "      <td>NaN</td>\n",
              "      <td>NaN</td>\n",
              "      <td>NaN</td>\n",
              "    </tr>\n",
              "  </tbody>\n",
              "</table>\n",
              "<p>5572 rows × 5 columns</p>\n",
              "</div>\n",
              "      <button class=\"colab-df-convert\" onclick=\"convertToInteractive('df-f472e9d9-e4aa-489c-984b-c02f8f0d7d23')\"\n",
              "              title=\"Convert this dataframe to an interactive table.\"\n",
              "              style=\"display:none;\">\n",
              "        \n",
              "  <svg xmlns=\"http://www.w3.org/2000/svg\" height=\"24px\"viewBox=\"0 0 24 24\"\n",
              "       width=\"24px\">\n",
              "    <path d=\"M0 0h24v24H0V0z\" fill=\"none\"/>\n",
              "    <path d=\"M18.56 5.44l.94 2.06.94-2.06 2.06-.94-2.06-.94-.94-2.06-.94 2.06-2.06.94zm-11 1L8.5 8.5l.94-2.06 2.06-.94-2.06-.94L8.5 2.5l-.94 2.06-2.06.94zm10 10l.94 2.06.94-2.06 2.06-.94-2.06-.94-.94-2.06-.94 2.06-2.06.94z\"/><path d=\"M17.41 7.96l-1.37-1.37c-.4-.4-.92-.59-1.43-.59-.52 0-1.04.2-1.43.59L10.3 9.45l-7.72 7.72c-.78.78-.78 2.05 0 2.83L4 21.41c.39.39.9.59 1.41.59.51 0 1.02-.2 1.41-.59l7.78-7.78 2.81-2.81c.8-.78.8-2.07 0-2.86zM5.41 20L4 18.59l7.72-7.72 1.47 1.35L5.41 20z\"/>\n",
              "  </svg>\n",
              "      </button>\n",
              "      \n",
              "  <style>\n",
              "    .colab-df-container {\n",
              "      display:flex;\n",
              "      flex-wrap:wrap;\n",
              "      gap: 12px;\n",
              "    }\n",
              "\n",
              "    .colab-df-convert {\n",
              "      background-color: #E8F0FE;\n",
              "      border: none;\n",
              "      border-radius: 50%;\n",
              "      cursor: pointer;\n",
              "      display: none;\n",
              "      fill: #1967D2;\n",
              "      height: 32px;\n",
              "      padding: 0 0 0 0;\n",
              "      width: 32px;\n",
              "    }\n",
              "\n",
              "    .colab-df-convert:hover {\n",
              "      background-color: #E2EBFA;\n",
              "      box-shadow: 0px 1px 2px rgba(60, 64, 67, 0.3), 0px 1px 3px 1px rgba(60, 64, 67, 0.15);\n",
              "      fill: #174EA6;\n",
              "    }\n",
              "\n",
              "    [theme=dark] .colab-df-convert {\n",
              "      background-color: #3B4455;\n",
              "      fill: #D2E3FC;\n",
              "    }\n",
              "\n",
              "    [theme=dark] .colab-df-convert:hover {\n",
              "      background-color: #434B5C;\n",
              "      box-shadow: 0px 1px 3px 1px rgba(0, 0, 0, 0.15);\n",
              "      filter: drop-shadow(0px 1px 2px rgba(0, 0, 0, 0.3));\n",
              "      fill: #FFFFFF;\n",
              "    }\n",
              "  </style>\n",
              "\n",
              "      <script>\n",
              "        const buttonEl =\n",
              "          document.querySelector('#df-f472e9d9-e4aa-489c-984b-c02f8f0d7d23 button.colab-df-convert');\n",
              "        buttonEl.style.display =\n",
              "          google.colab.kernel.accessAllowed ? 'block' : 'none';\n",
              "\n",
              "        async function convertToInteractive(key) {\n",
              "          const element = document.querySelector('#df-f472e9d9-e4aa-489c-984b-c02f8f0d7d23');\n",
              "          const dataTable =\n",
              "            await google.colab.kernel.invokeFunction('convertToInteractive',\n",
              "                                                     [key], {});\n",
              "          if (!dataTable) return;\n",
              "\n",
              "          const docLinkHtml = 'Like what you see? Visit the ' +\n",
              "            '<a target=\"_blank\" href=https://colab.research.google.com/notebooks/data_table.ipynb>data table notebook</a>'\n",
              "            + ' to learn more about interactive tables.';\n",
              "          element.innerHTML = '';\n",
              "          dataTable['output_type'] = 'display_data';\n",
              "          await google.colab.output.renderOutput(dataTable, element);\n",
              "          const docLink = document.createElement('div');\n",
              "          docLink.innerHTML = docLinkHtml;\n",
              "          element.appendChild(docLink);\n",
              "        }\n",
              "      </script>\n",
              "    </div>\n",
              "  </div>\n",
              "  "
            ]
          },
          "metadata": {},
          "execution_count": 35
        }
      ]
    },
    {
      "cell_type": "code",
      "source": [
        "# Step 2: Remove punctuations\n",
        "def remove_punctuations(text):\n",
        "    for punctuation in string.punctuation:\n",
        "        text = text.replace(punctuation, '')\n",
        "    return text\n",
        "\n",
        "data['msg_nopunct'] = data['v2'].apply(remove_punctuations)\n",
        "data['msg_nopunct'][1]"
      ],
      "metadata": {
        "id": "gmkTpN2VEpnZ",
        "colab": {
          "base_uri": "https://localhost:8080/",
          "height": 35
        },
        "outputId": "1e5fb53b-38f4-4e7e-eec7-c1107358c6a7"
      },
      "execution_count": 36,
      "outputs": [
        {
          "output_type": "execute_result",
          "data": {
            "text/plain": [
              "'Ok lar Joking wif u oni'"
            ],
            "application/vnd.google.colaboratory.intrinsic+json": {
              "type": "string"
            }
          },
          "metadata": {},
          "execution_count": 36
        }
      ]
    },
    {
      "cell_type": "code",
      "source": [
        "# Step 3: Remove stop words\n",
        "import nltk\n",
        "nltk.download('stopwords')\n",
        "nltk.download('punkt')\n",
        "stop_words = set(stopwords.words('english'))\n",
        "def remove_stopwords(text):\n",
        "    words = nltk.word_tokenize(text)\n",
        "    filtered_words = [word for word in words if word.casefold() not in stop_words]\n",
        "    return ' '.join(filtered_words)\n",
        "\n",
        "data['msg_nostopwords'] = data['msg_nopunct'].apply(remove_stopwords)\n",
        "data['msg_nostopwords'][1] "
      ],
      "metadata": {
        "colab": {
          "base_uri": "https://localhost:8080/",
          "height": 105
        },
        "id": "7qyQmlLkEsN2",
        "outputId": "bc8eb427-20e8-4919-d963-b75b06beeddf"
      },
      "execution_count": 37,
      "outputs": [
        {
          "output_type": "stream",
          "name": "stderr",
          "text": [
            "[nltk_data] Downloading package stopwords to /root/nltk_data...\n",
            "[nltk_data]   Package stopwords is already up-to-date!\n",
            "[nltk_data] Downloading package punkt to /root/nltk_data...\n",
            "[nltk_data]   Package punkt is already up-to-date!\n"
          ]
        },
        {
          "output_type": "execute_result",
          "data": {
            "text/plain": [
              "'Ok lar Joking wif u oni'"
            ],
            "application/vnd.google.colaboratory.intrinsic+json": {
              "type": "string"
            }
          },
          "metadata": {},
          "execution_count": 37
        }
      ]
    },
    {
      "cell_type": "code",
      "source": [
        "# Step 4: Lower case\n",
        "data['msg_lower'] = data['msg_nostopwords'].apply(lambda x: x.lower())\n",
        "data['msg_lower'][1]"
      ],
      "metadata": {
        "id": "4YoFgNoqExHD",
        "colab": {
          "base_uri": "https://localhost:8080/",
          "height": 35
        },
        "outputId": "99e9b038-3435-4cbb-d177-d26f7c2a98fc"
      },
      "execution_count": 38,
      "outputs": [
        {
          "output_type": "execute_result",
          "data": {
            "text/plain": [
              "'ok lar joking wif u oni'"
            ],
            "application/vnd.google.colaboratory.intrinsic+json": {
              "type": "string"
            }
          },
          "metadata": {},
          "execution_count": 38
        }
      ]
    },
    {
      "cell_type": "code",
      "source": [
        "# Step 5: Tokenization\n",
        "def tokenize(text):\n",
        "    return re.split('\\W+', text)\n",
        "\n",
        "data['msg_tokenized'] = data['msg_lower'].apply(tokenize)\n",
        "data['msg_tokenized'][1] "
      ],
      "metadata": {
        "id": "ltplFzNWEzYo",
        "colab": {
          "base_uri": "https://localhost:8080/"
        },
        "outputId": "48fb8c5c-6783-476f-876d-7715aef305c5"
      },
      "execution_count": 39,
      "outputs": [
        {
          "output_type": "execute_result",
          "data": {
            "text/plain": [
              "['ok', 'lar', 'joking', 'wif', 'u', 'oni']"
            ]
          },
          "metadata": {},
          "execution_count": 39
        }
      ]
    },
    {
      "cell_type": "code",
      "source": [
        "# Step 6: Stemming\n",
        "stemmer = PorterStemmer()\n",
        "def stem_words(words):\n",
        "    stemmed_words = [stemmer.stem(word) for word in words]\n",
        "    return stemmed_words\n",
        "\n",
        "data['msg_stemmed'] = data['msg_tokenized'].apply(stem_words)\n",
        "data['msg_stemmed'][1]"
      ],
      "metadata": {
        "id": "IfcWQ4UKE1Es",
        "colab": {
          "base_uri": "https://localhost:8080/"
        },
        "outputId": "2a7bef83-b491-4416-ac59-8c39c8a9bcb9"
      },
      "execution_count": 40,
      "outputs": [
        {
          "output_type": "execute_result",
          "data": {
            "text/plain": [
              "['ok', 'lar', 'joke', 'wif', 'u', 'oni']"
            ]
          },
          "metadata": {},
          "execution_count": 40
        }
      ]
    },
    {
      "cell_type": "code",
      "source": [
        "# Step 7: Lemmatization\n",
        "import nltk\n",
        "nltk.download('wordnet')\n",
        "lemmatizer = WordNetLemmatizer()\n",
        "def lemmatize_words(words):\n",
        "    lemmatized_words = [lemmatizer.lemmatize(word) for word in words]\n",
        "    return lemmatized_words\n",
        "\n",
        "data['msg_lemmatized'] = data['msg_tokenized'].apply(lemmatize_words)\n",
        "data['msg_lemmatized'][1] "
      ],
      "metadata": {
        "colab": {
          "base_uri": "https://localhost:8080/"
        },
        "id": "XPPyGN4SE1zB",
        "outputId": "4a5e1cd0-4083-4ecf-952c-5bc356e188bf"
      },
      "execution_count": 41,
      "outputs": [
        {
          "output_type": "stream",
          "name": "stderr",
          "text": [
            "[nltk_data] Downloading package wordnet to /root/nltk_data...\n",
            "[nltk_data]   Package wordnet is already up-to-date!\n"
          ]
        },
        {
          "output_type": "execute_result",
          "data": {
            "text/plain": [
              "['ok', 'lar', 'joking', 'wif', 'u', 'oni']"
            ]
          },
          "metadata": {},
          "execution_count": 41
        }
      ]
    },
    {
      "cell_type": "code",
      "source": [
        "# Step 8: POS tagging\n",
        "import nltk\n",
        "nltk.download('averaged_perceptron_tagger')\n",
        "def pos_tagging(text):\n",
        "    blob = TextBlob(text)\n",
        "    return blob.tags\n",
        "\n",
        "data['msg_pos'] = data['msg_lower'].apply(pos_tagging)\n",
        "data['msg_pos'][1] "
      ],
      "metadata": {
        "colab": {
          "base_uri": "https://localhost:8080/"
        },
        "id": "W8sf0VHCE4Jm",
        "outputId": "2a11cabf-ecdb-4381-f1f8-d7d37c71411c"
      },
      "execution_count": 42,
      "outputs": [
        {
          "output_type": "stream",
          "name": "stderr",
          "text": [
            "[nltk_data] Downloading package averaged_perceptron_tagger to\n",
            "[nltk_data]     /root/nltk_data...\n",
            "[nltk_data]   Package averaged_perceptron_tagger is already up-to-\n",
            "[nltk_data]       date!\n"
          ]
        },
        {
          "output_type": "execute_result",
          "data": {
            "text/plain": [
              "[('ok', 'JJ'),\n",
              " ('lar', 'JJ'),\n",
              " ('joking', 'NN'),\n",
              " ('wif', 'NN'),\n",
              " ('u', 'JJ'),\n",
              " ('oni', 'NN')]"
            ]
          },
          "metadata": {},
          "execution_count": 42
        }
      ]
    },
    {
      "cell_type": "code",
      "source": [
        "# Step 9: Calculating TF-IDF\n",
        "N = len(data)\n",
        "def doc_freq(word):\n",
        "    df = sum(1 for text in data['msg_lemmatized'] if word in text)\n",
        "    return df\n",
        "\n",
        "def calc_tf_idf(doc, token):\n",
        "    words_count = len(data['msg_lemmatized'][doc])\n",
        "    counter = dict(nltk.FreqDist(data['msg_lemmatized'][doc]))\n",
        "    tf = counter[token]/words_count\n",
        "    df = doc_freq(token)\n",
        "    idf = np.log(N/(df+1))\n",
        "    tf_idf = tf*idf\n",
        "    return tf_idf"
      ],
      "metadata": {
        "id": "ltEo0x6rGPRb"
      },
      "execution_count": 47,
      "outputs": []
    },
    {
      "cell_type": "code",
      "source": [
        "data"
      ],
      "metadata": {
        "colab": {
          "base_uri": "https://localhost:8080/",
          "height": 1000
        },
        "id": "esQPEVeBMXLl",
        "outputId": "e6842911-d6c9-4cdc-c749-7d6b11b58df0"
      },
      "execution_count": 48,
      "outputs": [
        {
          "output_type": "execute_result",
          "data": {
            "text/plain": [
              "        v1                                                 v2 Unnamed: 2  \\\n",
              "0      ham  Go until jurong point, crazy.. Available only ...        NaN   \n",
              "1      ham                      Ok lar... Joking wif u oni...        NaN   \n",
              "2     spam  Free entry in 2 a wkly comp to win FA Cup fina...        NaN   \n",
              "3      ham  U dun say so early hor... U c already then say...        NaN   \n",
              "4      ham  Nah I don't think he goes to usf, he lives aro...        NaN   \n",
              "...    ...                                                ...        ...   \n",
              "5567  spam  This is the 2nd time we have tried 2 contact u...        NaN   \n",
              "5568   ham              Will Ì_ b going to esplanade fr home?        NaN   \n",
              "5569   ham  Pity, * was in mood for that. So...any other s...        NaN   \n",
              "5570   ham  The guy did some bitching but I acted like i'd...        NaN   \n",
              "5571   ham                         Rofl. Its true to its name        NaN   \n",
              "\n",
              "     Unnamed: 3 Unnamed: 4                                        msg_nopunct  \\\n",
              "0           NaN        NaN  Go until jurong point crazy Available only in ...   \n",
              "1           NaN        NaN                            Ok lar Joking wif u oni   \n",
              "2           NaN        NaN  Free entry in 2 a wkly comp to win FA Cup fina...   \n",
              "3           NaN        NaN        U dun say so early hor U c already then say   \n",
              "4           NaN        NaN  Nah I dont think he goes to usf he lives aroun...   \n",
              "...         ...        ...                                                ...   \n",
              "5567        NaN        NaN  This is the 2nd time we have tried 2 contact u...   \n",
              "5568        NaN        NaN                Will Ì b going to esplanade fr home   \n",
              "5569        NaN        NaN  Pity  was in mood for that Soany other suggest...   \n",
              "5570        NaN        NaN  The guy did some bitching but I acted like id ...   \n",
              "5571        NaN        NaN                          Rofl Its true to its name   \n",
              "\n",
              "                                        msg_nostopwords  \\\n",
              "0     Go jurong point crazy Available bugis n great ...   \n",
              "1                               Ok lar Joking wif u oni   \n",
              "2     Free entry 2 wkly comp win FA Cup final tkts 2...   \n",
              "3                   U dun say early hor U c already say   \n",
              "4           Nah dont think goes usf lives around though   \n",
              "...                                                 ...   \n",
              "5567  2nd time tried 2 contact u U å£750 Pound prize...   \n",
              "5568                        Ì b going esplanade fr home   \n",
              "5569                        Pity mood Soany suggestions   \n",
              "5570  guy bitching acted like id interested buying s...   \n",
              "5571                                     Rofl true name   \n",
              "\n",
              "                                              msg_lower  \\\n",
              "0     go jurong point crazy available bugis n great ...   \n",
              "1                               ok lar joking wif u oni   \n",
              "2     free entry 2 wkly comp win fa cup final tkts 2...   \n",
              "3                   u dun say early hor u c already say   \n",
              "4           nah dont think goes usf lives around though   \n",
              "...                                                 ...   \n",
              "5567  2nd time tried 2 contact u u å£750 pound prize...   \n",
              "5568                        ì b going esplanade fr home   \n",
              "5569                        pity mood soany suggestions   \n",
              "5570  guy bitching acted like id interested buying s...   \n",
              "5571                                     rofl true name   \n",
              "\n",
              "                                          msg_tokenized  \\\n",
              "0     [go, jurong, point, crazy, available, bugis, n...   \n",
              "1                        [ok, lar, joking, wif, u, oni]   \n",
              "2     [free, entry, 2, wkly, comp, win, fa, cup, fin...   \n",
              "3         [u, dun, say, early, hor, u, c, already, say]   \n",
              "4     [nah, dont, think, goes, usf, lives, around, t...   \n",
              "...                                                 ...   \n",
              "5567  [2nd, time, tried, 2, contact, u, u, å, 750, p...   \n",
              "5568                 [ì, b, going, esplanade, fr, home]   \n",
              "5569                   [pity, mood, soany, suggestions]   \n",
              "5570  [guy, bitching, acted, like, id, interested, b...   \n",
              "5571                                 [rofl, true, name]   \n",
              "\n",
              "                                            msg_stemmed  \\\n",
              "0     [go, jurong, point, crazi, avail, bugi, n, gre...   \n",
              "1                          [ok, lar, joke, wif, u, oni]   \n",
              "2     [free, entri, 2, wkli, comp, win, fa, cup, fin...   \n",
              "3         [u, dun, say, earli, hor, u, c, alreadi, say]   \n",
              "4     [nah, dont, think, goe, usf, live, around, tho...   \n",
              "...                                                 ...   \n",
              "5567  [2nd, time, tri, 2, contact, u, u, å, 750, pou...   \n",
              "5568                     [ì, b, go, esplanad, fr, home]   \n",
              "5569                       [piti, mood, soani, suggest]   \n",
              "5570  [guy, bitch, act, like, id, interest, buy, som...   \n",
              "5571                                 [rofl, true, name]   \n",
              "\n",
              "                                         msg_lemmatized  \\\n",
              "0     [go, jurong, point, crazy, available, bugis, n...   \n",
              "1                        [ok, lar, joking, wif, u, oni]   \n",
              "2     [free, entry, 2, wkly, comp, win, fa, cup, fin...   \n",
              "3         [u, dun, say, early, hor, u, c, already, say]   \n",
              "4     [nah, dont, think, go, usf, life, around, though]   \n",
              "...                                                 ...   \n",
              "5567  [2nd, time, tried, 2, contact, u, u, å, 750, p...   \n",
              "5568                 [ì, b, going, esplanade, fr, home]   \n",
              "5569                    [pity, mood, soany, suggestion]   \n",
              "5570  [guy, bitching, acted, like, id, interested, b...   \n",
              "5571                                 [rofl, true, name]   \n",
              "\n",
              "                                                msg_pos  \n",
              "0     [(go, VB), (jurong, JJ), (point, NN), (crazy, ...  \n",
              "1     [(ok, JJ), (lar, JJ), (joking, NN), (wif, NN),...  \n",
              "2     [(free, JJ), (entry, NN), (2, CD), (wkly, JJ),...  \n",
              "3     [(u, JJ), (dun, NNS), (say, VBP), (early, JJ),...  \n",
              "4     [(nah, JJ), (dont, NN), (think, NN), (goes, VB...  \n",
              "...                                                 ...  \n",
              "5567  [(2nd, CD), (time, NN), (tried, VBD), (2, CD),...  \n",
              "5568  [(ì, NN), (b, NN), (going, VBG), (esplanade, J...  \n",
              "5569  [(pity, NN), (mood, NN), (soany, JJ), (suggest...  \n",
              "5570  [(guy, NN), (bitching, VBG), (acted, VBN), (li...  \n",
              "5571               [(rofl, NN), (true, JJ), (name, NN)]  \n",
              "\n",
              "[5572 rows x 12 columns]"
            ],
            "text/html": [
              "\n",
              "  <div id=\"df-7fbebeff-577f-4991-8317-222431b74a21\">\n",
              "    <div class=\"colab-df-container\">\n",
              "      <div>\n",
              "<style scoped>\n",
              "    .dataframe tbody tr th:only-of-type {\n",
              "        vertical-align: middle;\n",
              "    }\n",
              "\n",
              "    .dataframe tbody tr th {\n",
              "        vertical-align: top;\n",
              "    }\n",
              "\n",
              "    .dataframe thead th {\n",
              "        text-align: right;\n",
              "    }\n",
              "</style>\n",
              "<table border=\"1\" class=\"dataframe\">\n",
              "  <thead>\n",
              "    <tr style=\"text-align: right;\">\n",
              "      <th></th>\n",
              "      <th>v1</th>\n",
              "      <th>v2</th>\n",
              "      <th>Unnamed: 2</th>\n",
              "      <th>Unnamed: 3</th>\n",
              "      <th>Unnamed: 4</th>\n",
              "      <th>msg_nopunct</th>\n",
              "      <th>msg_nostopwords</th>\n",
              "      <th>msg_lower</th>\n",
              "      <th>msg_tokenized</th>\n",
              "      <th>msg_stemmed</th>\n",
              "      <th>msg_lemmatized</th>\n",
              "      <th>msg_pos</th>\n",
              "    </tr>\n",
              "  </thead>\n",
              "  <tbody>\n",
              "    <tr>\n",
              "      <th>0</th>\n",
              "      <td>ham</td>\n",
              "      <td>Go until jurong point, crazy.. Available only ...</td>\n",
              "      <td>NaN</td>\n",
              "      <td>NaN</td>\n",
              "      <td>NaN</td>\n",
              "      <td>Go until jurong point crazy Available only in ...</td>\n",
              "      <td>Go jurong point crazy Available bugis n great ...</td>\n",
              "      <td>go jurong point crazy available bugis n great ...</td>\n",
              "      <td>[go, jurong, point, crazy, available, bugis, n...</td>\n",
              "      <td>[go, jurong, point, crazi, avail, bugi, n, gre...</td>\n",
              "      <td>[go, jurong, point, crazy, available, bugis, n...</td>\n",
              "      <td>[(go, VB), (jurong, JJ), (point, NN), (crazy, ...</td>\n",
              "    </tr>\n",
              "    <tr>\n",
              "      <th>1</th>\n",
              "      <td>ham</td>\n",
              "      <td>Ok lar... Joking wif u oni...</td>\n",
              "      <td>NaN</td>\n",
              "      <td>NaN</td>\n",
              "      <td>NaN</td>\n",
              "      <td>Ok lar Joking wif u oni</td>\n",
              "      <td>Ok lar Joking wif u oni</td>\n",
              "      <td>ok lar joking wif u oni</td>\n",
              "      <td>[ok, lar, joking, wif, u, oni]</td>\n",
              "      <td>[ok, lar, joke, wif, u, oni]</td>\n",
              "      <td>[ok, lar, joking, wif, u, oni]</td>\n",
              "      <td>[(ok, JJ), (lar, JJ), (joking, NN), (wif, NN),...</td>\n",
              "    </tr>\n",
              "    <tr>\n",
              "      <th>2</th>\n",
              "      <td>spam</td>\n",
              "      <td>Free entry in 2 a wkly comp to win FA Cup fina...</td>\n",
              "      <td>NaN</td>\n",
              "      <td>NaN</td>\n",
              "      <td>NaN</td>\n",
              "      <td>Free entry in 2 a wkly comp to win FA Cup fina...</td>\n",
              "      <td>Free entry 2 wkly comp win FA Cup final tkts 2...</td>\n",
              "      <td>free entry 2 wkly comp win fa cup final tkts 2...</td>\n",
              "      <td>[free, entry, 2, wkly, comp, win, fa, cup, fin...</td>\n",
              "      <td>[free, entri, 2, wkli, comp, win, fa, cup, fin...</td>\n",
              "      <td>[free, entry, 2, wkly, comp, win, fa, cup, fin...</td>\n",
              "      <td>[(free, JJ), (entry, NN), (2, CD), (wkly, JJ),...</td>\n",
              "    </tr>\n",
              "    <tr>\n",
              "      <th>3</th>\n",
              "      <td>ham</td>\n",
              "      <td>U dun say so early hor... U c already then say...</td>\n",
              "      <td>NaN</td>\n",
              "      <td>NaN</td>\n",
              "      <td>NaN</td>\n",
              "      <td>U dun say so early hor U c already then say</td>\n",
              "      <td>U dun say early hor U c already say</td>\n",
              "      <td>u dun say early hor u c already say</td>\n",
              "      <td>[u, dun, say, early, hor, u, c, already, say]</td>\n",
              "      <td>[u, dun, say, earli, hor, u, c, alreadi, say]</td>\n",
              "      <td>[u, dun, say, early, hor, u, c, already, say]</td>\n",
              "      <td>[(u, JJ), (dun, NNS), (say, VBP), (early, JJ),...</td>\n",
              "    </tr>\n",
              "    <tr>\n",
              "      <th>4</th>\n",
              "      <td>ham</td>\n",
              "      <td>Nah I don't think he goes to usf, he lives aro...</td>\n",
              "      <td>NaN</td>\n",
              "      <td>NaN</td>\n",
              "      <td>NaN</td>\n",
              "      <td>Nah I dont think he goes to usf he lives aroun...</td>\n",
              "      <td>Nah dont think goes usf lives around though</td>\n",
              "      <td>nah dont think goes usf lives around though</td>\n",
              "      <td>[nah, dont, think, goes, usf, lives, around, t...</td>\n",
              "      <td>[nah, dont, think, goe, usf, live, around, tho...</td>\n",
              "      <td>[nah, dont, think, go, usf, life, around, though]</td>\n",
              "      <td>[(nah, JJ), (dont, NN), (think, NN), (goes, VB...</td>\n",
              "    </tr>\n",
              "    <tr>\n",
              "      <th>...</th>\n",
              "      <td>...</td>\n",
              "      <td>...</td>\n",
              "      <td>...</td>\n",
              "      <td>...</td>\n",
              "      <td>...</td>\n",
              "      <td>...</td>\n",
              "      <td>...</td>\n",
              "      <td>...</td>\n",
              "      <td>...</td>\n",
              "      <td>...</td>\n",
              "      <td>...</td>\n",
              "      <td>...</td>\n",
              "    </tr>\n",
              "    <tr>\n",
              "      <th>5567</th>\n",
              "      <td>spam</td>\n",
              "      <td>This is the 2nd time we have tried 2 contact u...</td>\n",
              "      <td>NaN</td>\n",
              "      <td>NaN</td>\n",
              "      <td>NaN</td>\n",
              "      <td>This is the 2nd time we have tried 2 contact u...</td>\n",
              "      <td>2nd time tried 2 contact u U å£750 Pound prize...</td>\n",
              "      <td>2nd time tried 2 contact u u å£750 pound prize...</td>\n",
              "      <td>[2nd, time, tried, 2, contact, u, u, å, 750, p...</td>\n",
              "      <td>[2nd, time, tri, 2, contact, u, u, å, 750, pou...</td>\n",
              "      <td>[2nd, time, tried, 2, contact, u, u, å, 750, p...</td>\n",
              "      <td>[(2nd, CD), (time, NN), (tried, VBD), (2, CD),...</td>\n",
              "    </tr>\n",
              "    <tr>\n",
              "      <th>5568</th>\n",
              "      <td>ham</td>\n",
              "      <td>Will Ì_ b going to esplanade fr home?</td>\n",
              "      <td>NaN</td>\n",
              "      <td>NaN</td>\n",
              "      <td>NaN</td>\n",
              "      <td>Will Ì b going to esplanade fr home</td>\n",
              "      <td>Ì b going esplanade fr home</td>\n",
              "      <td>ì b going esplanade fr home</td>\n",
              "      <td>[ì, b, going, esplanade, fr, home]</td>\n",
              "      <td>[ì, b, go, esplanad, fr, home]</td>\n",
              "      <td>[ì, b, going, esplanade, fr, home]</td>\n",
              "      <td>[(ì, NN), (b, NN), (going, VBG), (esplanade, J...</td>\n",
              "    </tr>\n",
              "    <tr>\n",
              "      <th>5569</th>\n",
              "      <td>ham</td>\n",
              "      <td>Pity, * was in mood for that. So...any other s...</td>\n",
              "      <td>NaN</td>\n",
              "      <td>NaN</td>\n",
              "      <td>NaN</td>\n",
              "      <td>Pity  was in mood for that Soany other suggest...</td>\n",
              "      <td>Pity mood Soany suggestions</td>\n",
              "      <td>pity mood soany suggestions</td>\n",
              "      <td>[pity, mood, soany, suggestions]</td>\n",
              "      <td>[piti, mood, soani, suggest]</td>\n",
              "      <td>[pity, mood, soany, suggestion]</td>\n",
              "      <td>[(pity, NN), (mood, NN), (soany, JJ), (suggest...</td>\n",
              "    </tr>\n",
              "    <tr>\n",
              "      <th>5570</th>\n",
              "      <td>ham</td>\n",
              "      <td>The guy did some bitching but I acted like i'd...</td>\n",
              "      <td>NaN</td>\n",
              "      <td>NaN</td>\n",
              "      <td>NaN</td>\n",
              "      <td>The guy did some bitching but I acted like id ...</td>\n",
              "      <td>guy bitching acted like id interested buying s...</td>\n",
              "      <td>guy bitching acted like id interested buying s...</td>\n",
              "      <td>[guy, bitching, acted, like, id, interested, b...</td>\n",
              "      <td>[guy, bitch, act, like, id, interest, buy, som...</td>\n",
              "      <td>[guy, bitching, acted, like, id, interested, b...</td>\n",
              "      <td>[(guy, NN), (bitching, VBG), (acted, VBN), (li...</td>\n",
              "    </tr>\n",
              "    <tr>\n",
              "      <th>5571</th>\n",
              "      <td>ham</td>\n",
              "      <td>Rofl. Its true to its name</td>\n",
              "      <td>NaN</td>\n",
              "      <td>NaN</td>\n",
              "      <td>NaN</td>\n",
              "      <td>Rofl Its true to its name</td>\n",
              "      <td>Rofl true name</td>\n",
              "      <td>rofl true name</td>\n",
              "      <td>[rofl, true, name]</td>\n",
              "      <td>[rofl, true, name]</td>\n",
              "      <td>[rofl, true, name]</td>\n",
              "      <td>[(rofl, NN), (true, JJ), (name, NN)]</td>\n",
              "    </tr>\n",
              "  </tbody>\n",
              "</table>\n",
              "<p>5572 rows × 12 columns</p>\n",
              "</div>\n",
              "      <button class=\"colab-df-convert\" onclick=\"convertToInteractive('df-7fbebeff-577f-4991-8317-222431b74a21')\"\n",
              "              title=\"Convert this dataframe to an interactive table.\"\n",
              "              style=\"display:none;\">\n",
              "        \n",
              "  <svg xmlns=\"http://www.w3.org/2000/svg\" height=\"24px\"viewBox=\"0 0 24 24\"\n",
              "       width=\"24px\">\n",
              "    <path d=\"M0 0h24v24H0V0z\" fill=\"none\"/>\n",
              "    <path d=\"M18.56 5.44l.94 2.06.94-2.06 2.06-.94-2.06-.94-.94-2.06-.94 2.06-2.06.94zm-11 1L8.5 8.5l.94-2.06 2.06-.94-2.06-.94L8.5 2.5l-.94 2.06-2.06.94zm10 10l.94 2.06.94-2.06 2.06-.94-2.06-.94-.94-2.06-.94 2.06-2.06.94z\"/><path d=\"M17.41 7.96l-1.37-1.37c-.4-.4-.92-.59-1.43-.59-.52 0-1.04.2-1.43.59L10.3 9.45l-7.72 7.72c-.78.78-.78 2.05 0 2.83L4 21.41c.39.39.9.59 1.41.59.51 0 1.02-.2 1.41-.59l7.78-7.78 2.81-2.81c.8-.78.8-2.07 0-2.86zM5.41 20L4 18.59l7.72-7.72 1.47 1.35L5.41 20z\"/>\n",
              "  </svg>\n",
              "      </button>\n",
              "      \n",
              "  <style>\n",
              "    .colab-df-container {\n",
              "      display:flex;\n",
              "      flex-wrap:wrap;\n",
              "      gap: 12px;\n",
              "    }\n",
              "\n",
              "    .colab-df-convert {\n",
              "      background-color: #E8F0FE;\n",
              "      border: none;\n",
              "      border-radius: 50%;\n",
              "      cursor: pointer;\n",
              "      display: none;\n",
              "      fill: #1967D2;\n",
              "      height: 32px;\n",
              "      padding: 0 0 0 0;\n",
              "      width: 32px;\n",
              "    }\n",
              "\n",
              "    .colab-df-convert:hover {\n",
              "      background-color: #E2EBFA;\n",
              "      box-shadow: 0px 1px 2px rgba(60, 64, 67, 0.3), 0px 1px 3px 1px rgba(60, 64, 67, 0.15);\n",
              "      fill: #174EA6;\n",
              "    }\n",
              "\n",
              "    [theme=dark] .colab-df-convert {\n",
              "      background-color: #3B4455;\n",
              "      fill: #D2E3FC;\n",
              "    }\n",
              "\n",
              "    [theme=dark] .colab-df-convert:hover {\n",
              "      background-color: #434B5C;\n",
              "      box-shadow: 0px 1px 3px 1px rgba(0, 0, 0, 0.15);\n",
              "      filter: drop-shadow(0px 1px 2px rgba(0, 0, 0, 0.3));\n",
              "      fill: #FFFFFF;\n",
              "    }\n",
              "  </style>\n",
              "\n",
              "      <script>\n",
              "        const buttonEl =\n",
              "          document.querySelector('#df-7fbebeff-577f-4991-8317-222431b74a21 button.colab-df-convert');\n",
              "        buttonEl.style.display =\n",
              "          google.colab.kernel.accessAllowed ? 'block' : 'none';\n",
              "\n",
              "        async function convertToInteractive(key) {\n",
              "          const element = document.querySelector('#df-7fbebeff-577f-4991-8317-222431b74a21');\n",
              "          const dataTable =\n",
              "            await google.colab.kernel.invokeFunction('convertToInteractive',\n",
              "                                                     [key], {});\n",
              "          if (!dataTable) return;\n",
              "\n",
              "          const docLinkHtml = 'Like what you see? Visit the ' +\n",
              "            '<a target=\"_blank\" href=https://colab.research.google.com/notebooks/data_table.ipynb>data table notebook</a>'\n",
              "            + ' to learn more about interactive tables.';\n",
              "          element.innerHTML = '';\n",
              "          dataTable['output_type'] = 'display_data';\n",
              "          await google.colab.output.renderOutput(dataTable, element);\n",
              "          const docLink = document.createElement('div');\n",
              "          docLink.innerHTML = docLinkHtml;\n",
              "          element.appendChild(docLink);\n",
              "        }\n",
              "      </script>\n",
              "    </div>\n",
              "  </div>\n",
              "  "
            ]
          },
          "metadata": {},
          "execution_count": 48
        }
      ]
    },
    {
      "cell_type": "code",
      "source": [
        "data['msg_lemmatized'][0]"
      ],
      "metadata": {
        "colab": {
          "base_uri": "https://localhost:8080/"
        },
        "id": "dKoMjrWFIsEr",
        "outputId": "ac63802b-b1fe-4015-8320-2fcbb8150d98"
      },
      "execution_count": 45,
      "outputs": [
        {
          "output_type": "execute_result",
          "data": {
            "text/plain": [
              "['go',\n",
              " 'jurong',\n",
              " 'point',\n",
              " 'crazy',\n",
              " 'available',\n",
              " 'bugis',\n",
              " 'n',\n",
              " 'great',\n",
              " 'world',\n",
              " 'la',\n",
              " 'e',\n",
              " 'buffet',\n",
              " 'cine',\n",
              " 'got',\n",
              " 'amore',\n",
              " 'wat']"
            ]
          },
          "metadata": {},
          "execution_count": 45
        }
      ]
    },
    {
      "cell_type": "code",
      "source": [
        "# Example usage\n",
        "for i in data['msg_lemmatized'][0]:\n",
        "  tf_idf = calc_tf_idf(doc=0, token=i)\n",
        "  print(i,\" \", tf_idf)"
      ],
      "metadata": {
        "colab": {
          "base_uri": "https://localhost:8080/"
        },
        "id": "yRrFgDAFIsoy",
        "outputId": "edb57252-27f8-473b-858f-f22f75fe31db"
      },
      "execution_count": 49,
      "outputs": [
        {
          "output_type": "stream",
          "name": "stdout",
          "text": [
            "go   0.18559484525499023\n",
            "jurong   0.49577263464623444\n",
            "point   0.31869680064272093\n",
            "crazy   0.3698411958623429\n",
            "available   0.3620184994277175\n",
            "bugis   0.40912923707624127\n",
            "n   0.23987609950735314\n",
            "great   0.2482218115463858\n",
            "world   0.31688507958814266\n",
            "la   0.40912923707624127\n",
            "e   0.26842349966333534\n",
            "buffet   0.47043106538947416\n",
            "cine   0.40912923707624127\n",
            "got   0.1968153614355116\n",
            "amore   0.49577263464623444\n",
            "wat   0.2558068651091525\n"
          ]
        }
      ]
    },
    {
      "cell_type": "code",
      "source": [],
      "metadata": {
        "id": "xD3hvxZbRaP6"
      },
      "execution_count": 46,
      "outputs": []
    }
  ]
}